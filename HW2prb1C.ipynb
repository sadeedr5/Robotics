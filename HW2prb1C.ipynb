{
 "cells": [
  {
   "cell_type": "code",
   "execution_count": 1,
   "metadata": {},
   "outputs": [],
   "source": [
    "import numpy as np\n",
    "import matplotlib.pyplot as plt"
   ]
  },
  {
   "cell_type": "code",
   "execution_count": 2,
   "metadata": {},
   "outputs": [],
   "source": [
    "# Define basis functions and time\n",
    "def basis_func(t):\n",
    "    return np.array([1, t, t**2, t**3, t**4, t**5]) \n",
    "def basis_deri(t):\n",
    "    return np.array([0, 1, 2*t, 3*t**2, 4*t**3, 5*t**4])"
   ]
  },
  {
   "cell_type": "code",
   "execution_count": 3,
   "metadata": {},
   "outputs": [],
   "source": [
    "t_ini = 0    #Initial and final time \n",
    "T = 10"
   ]
  },
  {
   "cell_type": "code",
   "execution_count": 4,
   "metadata": {},
   "outputs": [],
   "source": [
    "# Initial and final conditions\n",
    "x1_0 = 0\n",
    "x1_T = 1\n",
    "x3_0 = 0\n",
    "x3_T = 1\n",
    "dx1_0 = 1\n",
    "dx1_T = 1"
   ]
  },
  {
   "cell_type": "code",
   "execution_count": 55,
   "metadata": {},
   "outputs": [],
   "source": [
    "# Create the system of equations for x1 and x3 using boundary conditions\n",
    "def create_matrix_equation(t, x0, xT, dx0, dxT):\n",
    "    psi_0 = basis_func(t[0])\n",
    "    psi_T = basis_func(t[1])\n",
    "    dpsi_0 = np.array([0, 1, 2*t[0], 3*t[0]**2])\n",
    "    dpsi_T = np.array([0, 1, 2*t[1], 3*t[1]**2])\n",
    "\n",
    "    # Formulate matrix A and vector B\n",
    "    A = np.vstack([psi_0, dpsi_0, psi_T, dpsi_T])\n",
    "    B = np.array([x0, dx0, xT, dxT])\n",
    "    \n",
    "    # Solve for coefficients\n",
    "    coeffs = np.linalg.solve(A, B)\n",
    "    return coeffs"
   ]
  },
  {
   "cell_type": "code",
   "execution_count": 57,
   "metadata": {},
   "outputs": [
    {
     "ename": "NameError",
     "evalue": "name 't0' is not defined",
     "output_type": "error",
     "traceback": [
      "\u001b[1;31m---------------------------------------------------------------------------\u001b[0m",
      "\u001b[1;31mNameError\u001b[0m                                 Traceback (most recent call last)",
      "Cell \u001b[1;32mIn[57], line 2\u001b[0m\n\u001b[0;32m      1\u001b[0m \u001b[38;5;66;03m# Solve for coefficients for x1 and x3\u001b[39;00m\n\u001b[1;32m----> 2\u001b[0m a_coeffs \u001b[38;5;241m=\u001b[39m create_matrix_equation([\u001b[43mt0\u001b[49m, T], x1_0, x1_T, dx1_0, dx1_T)\n\u001b[0;32m      3\u001b[0m b_coeffs \u001b[38;5;241m=\u001b[39m create_matrix_equation([t0, T], x3_0, x3_T, \u001b[38;5;241m0\u001b[39m, \u001b[38;5;241m0\u001b[39m) \n",
      "\u001b[1;31mNameError\u001b[0m: name 't0' is not defined"
     ]
    }
   ],
   "source": [
    "# Solve for coefficients for x1 and x3\n",
    "a_coeffs = create_matrix_equation([t0, T], x1_0, x1_T, dx1_0, dx1_T)\n",
    "b_coeffs = create_matrix_equation([t0, T], x3_0, x3_T, 0, 0) "
   ]
  },
  {
   "cell_type": "code",
   "execution_count": 51,
   "metadata": {},
   "outputs": [],
   "source": [
    "# Generate trajectory using these coefficients\n",
    "def trajectory(coeffs, t):\n",
    "    basis_vals = np.array([basis_functions(ti) for ti in t])\n",
    "    return basis_vals @ coeffs"
   ]
  },
  {
   "cell_type": "code",
   "execution_count": 52,
   "metadata": {},
   "outputs": [
    {
     "ename": "NameError",
     "evalue": "name 't0' is not defined",
     "output_type": "error",
     "traceback": [
      "\u001b[1;31m---------------------------------------------------------------------------\u001b[0m",
      "\u001b[1;31mNameError\u001b[0m                                 Traceback (most recent call last)",
      "Cell \u001b[1;32mIn[52], line 2\u001b[0m\n\u001b[0;32m      1\u001b[0m \u001b[38;5;66;03m# Time vector for plotting\u001b[39;00m\n\u001b[1;32m----> 2\u001b[0m t_vals \u001b[38;5;241m=\u001b[39m np\u001b[38;5;241m.\u001b[39mlinspace(\u001b[43mt0\u001b[49m, T, \u001b[38;5;241m100\u001b[39m)\n\u001b[0;32m      3\u001b[0m x1_vals \u001b[38;5;241m=\u001b[39m trajectory(a_coeffs, t_vals)\n\u001b[0;32m      4\u001b[0m x3_vals \u001b[38;5;241m=\u001b[39m trajectory(b_coeffs, t_vals)\n",
      "\u001b[1;31mNameError\u001b[0m: name 't0' is not defined"
     ]
    }
   ],
   "source": [
    "# Time vector for plotting\n",
    "t_vals = np.linspace(t0, T, 100)\n",
    "x1_vals = trajectory(a_coeffs, t_vals)\n",
    "x3_vals = trajectory(b_coeffs, t_vals)"
   ]
  },
  {
   "cell_type": "code",
   "execution_count": 53,
   "metadata": {},
   "outputs": [
    {
     "ename": "NameError",
     "evalue": "name 't_vals' is not defined",
     "output_type": "error",
     "traceback": [
      "\u001b[1;31m---------------------------------------------------------------------------\u001b[0m",
      "\u001b[1;31mNameError\u001b[0m                                 Traceback (most recent call last)",
      "Cell \u001b[1;32mIn[53], line 3\u001b[0m\n\u001b[0;32m      1\u001b[0m \u001b[38;5;66;03m# Plot the trajectories x1 and x3\u001b[39;00m\n\u001b[0;32m      2\u001b[0m plt\u001b[38;5;241m.\u001b[39mfigure(figsize\u001b[38;5;241m=\u001b[39m(\u001b[38;5;241m10\u001b[39m, \u001b[38;5;241m6\u001b[39m))\n\u001b[1;32m----> 3\u001b[0m plt\u001b[38;5;241m.\u001b[39mplot(\u001b[43mt_vals\u001b[49m, x1_vals, label\u001b[38;5;241m=\u001b[39m\u001b[38;5;124m'\u001b[39m\u001b[38;5;124mx1(t)\u001b[39m\u001b[38;5;124m'\u001b[39m)\n\u001b[0;32m      4\u001b[0m plt\u001b[38;5;241m.\u001b[39mplot(t_vals, x3_vals, label\u001b[38;5;241m=\u001b[39m\u001b[38;5;124m'\u001b[39m\u001b[38;5;124mx3(t)\u001b[39m\u001b[38;5;124m'\u001b[39m)\n\u001b[0;32m      5\u001b[0m plt\u001b[38;5;241m.\u001b[39mxlabel(\u001b[38;5;124m'\u001b[39m\u001b[38;5;124mTime\u001b[39m\u001b[38;5;124m'\u001b[39m)\n",
      "\u001b[1;31mNameError\u001b[0m: name 't_vals' is not defined"
     ]
    },
    {
     "data": {
      "text/plain": [
       "<Figure size 1000x600 with 0 Axes>"
      ]
     },
     "metadata": {},
     "output_type": "display_data"
    }
   ],
   "source": [
    "# Plot the trajectories x1 and x3\n",
    "plt.figure(figsize=(10, 6))\n",
    "plt.plot(t_vals, x1_vals, label='x1(t)')\n",
    "plt.plot(t_vals, x3_vals, label='x3(t)')\n",
    "plt.xlabel('Time')\n",
    "plt.ylabel('Position')\n",
    "plt.legend()\n",
    "plt.title(\"Trajectory for x1 and x3 with 4 basis functions\")\n",
    "plt.grid()\n",
    "plt.show()"
   ]
  },
  {
   "cell_type": "code",
   "execution_count": null,
   "metadata": {},
   "outputs": [],
   "source": []
  },
  {
   "cell_type": "code",
   "execution_count": null,
   "metadata": {},
   "outputs": [],
   "source": []
  }
 ],
 "metadata": {
  "kernelspec": {
   "display_name": "Python 3",
   "language": "python",
   "name": "python3"
  },
  "language_info": {
   "codemirror_mode": {
    "name": "ipython",
    "version": 3
   },
   "file_extension": ".py",
   "mimetype": "text/x-python",
   "name": "python",
   "nbconvert_exporter": "python",
   "pygments_lexer": "ipython3",
   "version": "3.13.0"
  }
 },
 "nbformat": 4,
 "nbformat_minor": 2
}
