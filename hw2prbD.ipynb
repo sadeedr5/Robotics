{
 "cells": [
  {
   "cell_type": "code",
   "execution_count": null,
   "metadata": {},
   "outputs": [],
   "source": [
    "import numpy as np\n",
    "import matplotlib.pyplot as plt"
   ]
  },
  {
   "cell_type": "code",
   "execution_count": null,
   "metadata": {},
   "outputs": [],
   "source": [
    "\n",
    "# Define basis functions and their derivatives\n",
    "def basis_func(t):\n",
    "    return np.array([1, t, t**2, t**3])\n",
    "\n",
    "def basis_deri(t):\n",
    "    return np.array([0, 1, 2*t, 3*t**2])"
   ]
  },
  {
   "cell_type": "code",
   "execution_count": null,
   "metadata": {},
   "outputs": [],
   "source": [
    "# Six basis functions \n",
    "def basis_functions_six(t):\n",
    "    return np.array([1, t, t**2, t**3, t**4, t**5])\n",
    "\n",
    "def basis_derivatives_six(t):\n",
    "    return np.array([0, 1, 2*t, 3*t**2, 4*t**3, 5*t**4])"
   ]
  },
  {
   "cell_type": "code",
   "execution_count": 2,
   "metadata": {},
   "outputs": [],
   "source": [
    "def create_matrix_eq(t0, tT, z0, zT, dz0, dzT, basis_func, basis_deriv_func):\n",
    "    # Basis function values at t = 0 and t = T\n",
    "    psi_0 = basis_func(t0)\n",
    "    psi_T = basis_func(tT)\n",
    "    dpsi_0 = basis_deriv_func(t0)\n",
    "    dpsi_T = basis_deriv_func(tT)\n",
    "\n",
    "    # Assemble matrix A and vector B for boundary conditions\n",
    "    A = np.vstack([psi_0, dpsi_0, psi_T, dpsi_T])\n",
    "    B = np.array([z0, dz0, zT, dzT])\n",
    "\n",
    "    # Solve for the coefficients\n",
    "    coeffs = np.linalg.solve(A, B)\n",
    "    return coeffs"
   ]
  },
  {
   "cell_type": "code",
   "execution_count": 5,
   "metadata": {},
   "outputs": [],
   "source": [
    "# Trajectory generation function\n",
    "def trajectory(coeffs, t_vals, basis_func):\n",
    "    basis_vals = np.array([basis_func(t) for t in t_vals])\n",
    "    return basis_vals @ coeffs\n"
   ]
  },
  {
   "cell_type": "code",
   "execution_count": 6,
   "metadata": {},
   "outputs": [],
   "source": [
    "# Control inputs calculation\n",
    "def control_inputs(x1_vals, x3_vals, dt):\n",
    "    u1_vals = np.gradient(x1_vals, dt)\n",
    "    u2_vals = np.gradient(x3_vals, dt) / x1_vals\n",
    "    return u1_vals, u2_vals"
   ]
  },
  {
   "cell_type": "code",
   "execution_count": 7,
   "metadata": {},
   "outputs": [
    {
     "ename": "NameError",
     "evalue": "name 'np' is not defined",
     "output_type": "error",
     "traceback": [
      "\u001b[1;31m---------------------------------------------------------------------------\u001b[0m",
      "\u001b[1;31mNameError\u001b[0m                                 Traceback (most recent call last)",
      "Cell \u001b[1;32mIn[7], line 3\u001b[0m\n\u001b[0;32m      1\u001b[0m \u001b[38;5;66;03m# Time boundaries\u001b[39;00m\n\u001b[0;32m      2\u001b[0m T \u001b[38;5;241m=\u001b[39m \u001b[38;5;241m10\u001b[39m  \u001b[38;5;66;03m# or you can use 1 depending on the requirement\u001b[39;00m\n\u001b[1;32m----> 3\u001b[0m t_vals \u001b[38;5;241m=\u001b[39m \u001b[43mnp\u001b[49m\u001b[38;5;241m.\u001b[39mlinspace(\u001b[38;5;241m0\u001b[39m, T, \u001b[38;5;241m100\u001b[39m)  \u001b[38;5;66;03m# Discrete time steps\u001b[39;00m\n\u001b[0;32m      4\u001b[0m dt \u001b[38;5;241m=\u001b[39m t_vals[\u001b[38;5;241m1\u001b[39m] \u001b[38;5;241m-\u001b[39m t_vals[\u001b[38;5;241m0\u001b[39m]\n",
      "\u001b[1;31mNameError\u001b[0m: name 'np' is not defined"
     ]
    }
   ],
   "source": [
    "# Time boundaries\n",
    "T = 10  # or you can use 1 depending on the requirement\n",
    "t_vals = np.linspace(0, T, 100)  # Discrete time steps\n",
    "dt = t_vals[1] - t_vals[0]"
   ]
  },
  {
   "cell_type": "code",
   "execution_count": 8,
   "metadata": {},
   "outputs": [],
   "source": [
    "# Initial and final conditions for x1 and x3\n",
    "x1_0, x1_T = 0, 1\n",
    "dx1_0, dx1_T = 0, 0\n"
   ]
  },
  {
   "cell_type": "code",
   "execution_count": 9,
   "metadata": {},
   "outputs": [],
   "source": [
    "x3_0, x3_T = 0, 1\n",
    "dx3_0, dx3_T = 1, 1\n"
   ]
  },
  {
   "cell_type": "code",
   "execution_count": 13,
   "metadata": {},
   "outputs": [
    {
     "ename": "NameError",
     "evalue": "name 'basis_functions' is not defined",
     "output_type": "error",
     "traceback": [
      "\u001b[1;31m---------------------------------------------------------------------------\u001b[0m",
      "\u001b[1;31mNameError\u001b[0m                                 Traceback (most recent call last)",
      "Cell \u001b[1;32mIn[13], line 2\u001b[0m\n\u001b[0;32m      1\u001b[0m \u001b[38;5;66;03m# Calculate coefficients for x1 and x3 using four basis functions\u001b[39;00m\n\u001b[1;32m----> 2\u001b[0m x1_coeffs_four \u001b[38;5;241m=\u001b[39m create_matrix_eq(\u001b[38;5;241m0\u001b[39m, T, x1_0, x1_T, dx1_0, dx1_T, \u001b[43mbasis_functions\u001b[49m, basis_derivatives)\n\u001b[0;32m      3\u001b[0m x3_coeffs_four \u001b[38;5;241m=\u001b[39m create_matrix_eq(\u001b[38;5;241m0\u001b[39m, T, x3_0, x3_T, dx3_0, dx3_T, basis_functions, basis_derivatives)\n",
      "\u001b[1;31mNameError\u001b[0m: name 'basis_functions' is not defined"
     ]
    }
   ],
   "source": [
    "# Calculate coefficients for x1 and x3 using four basis functions\n",
    "x1_coeffs_four = create_matrix_eq(0, T, x1_0, x1_T, dx1_0, dx1_T, basis_functions, basis_derivatives)\n",
    "x3_coeffs_four = create_matrix_eq(0, T, x3_0, x3_T, dx3_0, dx3_T, basis_functions, basis_derivatives)\n"
   ]
  },
  {
   "cell_type": "code",
   "execution_count": 11,
   "metadata": {},
   "outputs": [
    {
     "ename": "NameError",
     "evalue": "name 'x1_coeffs_four' is not defined",
     "output_type": "error",
     "traceback": [
      "\u001b[1;31m---------------------------------------------------------------------------\u001b[0m",
      "\u001b[1;31mNameError\u001b[0m                                 Traceback (most recent call last)",
      "Cell \u001b[1;32mIn[11], line 2\u001b[0m\n\u001b[0;32m      1\u001b[0m \u001b[38;5;66;03m# Calculate trajectories for four basis functions\u001b[39;00m\n\u001b[1;32m----> 2\u001b[0m x1_vals_four \u001b[38;5;241m=\u001b[39m trajectory(\u001b[43mx1_coeffs_four\u001b[49m, t_vals, basis_functions)\n\u001b[0;32m      3\u001b[0m x3_vals_four \u001b[38;5;241m=\u001b[39m trajectory(x3_coeffs_four, t_vals, basis_functions)\n",
      "\u001b[1;31mNameError\u001b[0m: name 'x1_coeffs_four' is not defined"
     ]
    }
   ],
   "source": [
    "# Calculate trajectories for four basis functions\n",
    "x1_vals_four = trajectory(x1_coeffs_four, t_vals, basis_functions)\n",
    "x3_vals_four = trajectory(x3_coeffs_four, t_vals, basis_functions)"
   ]
  },
  {
   "cell_type": "code",
   "execution_count": 14,
   "metadata": {},
   "outputs": [
    {
     "ename": "NameError",
     "evalue": "name 'x1_vals_four' is not defined",
     "output_type": "error",
     "traceback": [
      "\u001b[1;31m---------------------------------------------------------------------------\u001b[0m",
      "\u001b[1;31mNameError\u001b[0m                                 Traceback (most recent call last)",
      "Cell \u001b[1;32mIn[14], line 2\u001b[0m\n\u001b[0;32m      1\u001b[0m \u001b[38;5;66;03m# Compute control inputs u1 and u2 for four basis functions\u001b[39;00m\n\u001b[1;32m----> 2\u001b[0m u1_vals_four, u2_vals_four \u001b[38;5;241m=\u001b[39m control_inputs(\u001b[43mx1_vals_four\u001b[49m, x3_vals_four, dt)\n",
      "\u001b[1;31mNameError\u001b[0m: name 'x1_vals_four' is not defined"
     ]
    }
   ],
   "source": [
    "# Compute control inputs u1 and u2 for four basis functions\n",
    "u1_vals_four, u2_vals_four = control_inputs(x1_vals_four, x3_vals_four, dt)"
   ]
  },
  {
   "cell_type": "code",
   "execution_count": 15,
   "metadata": {},
   "outputs": [
    {
     "ename": "NameError",
     "evalue": "name 'plt' is not defined",
     "output_type": "error",
     "traceback": [
      "\u001b[1;31m---------------------------------------------------------------------------\u001b[0m",
      "\u001b[1;31mNameError\u001b[0m                                 Traceback (most recent call last)",
      "Cell \u001b[1;32mIn[15], line 2\u001b[0m\n\u001b[0;32m      1\u001b[0m \u001b[38;5;66;03m# Plot trajectories and control inputs for four basis functions\u001b[39;00m\n\u001b[1;32m----> 2\u001b[0m \u001b[43mplt\u001b[49m\u001b[38;5;241m.\u001b[39mfigure(figsize\u001b[38;5;241m=\u001b[39m(\u001b[38;5;241m12\u001b[39m, \u001b[38;5;241m8\u001b[39m))\n",
      "\u001b[1;31mNameError\u001b[0m: name 'plt' is not defined"
     ]
    }
   ],
   "source": [
    "# Plot trajectories and control inputs for four basis functions\n",
    "plt.figure(figsize=(12, 8))"
   ]
  },
  {
   "cell_type": "code",
   "execution_count": 16,
   "metadata": {},
   "outputs": [
    {
     "ename": "NameError",
     "evalue": "name 'plt' is not defined",
     "output_type": "error",
     "traceback": [
      "\u001b[1;31m---------------------------------------------------------------------------\u001b[0m",
      "\u001b[1;31mNameError\u001b[0m                                 Traceback (most recent call last)",
      "Cell \u001b[1;32mIn[16], line 2\u001b[0m\n\u001b[0;32m      1\u001b[0m \u001b[38;5;66;03m# Plot x1 and x3 trajectories\u001b[39;00m\n\u001b[1;32m----> 2\u001b[0m \u001b[43mplt\u001b[49m\u001b[38;5;241m.\u001b[39msubplot(\u001b[38;5;241m2\u001b[39m, \u001b[38;5;241m2\u001b[39m, \u001b[38;5;241m1\u001b[39m)\n\u001b[0;32m      3\u001b[0m plt\u001b[38;5;241m.\u001b[39mplot(t_vals, x1_vals_four, label\u001b[38;5;241m=\u001b[39m\u001b[38;5;124m\"\u001b[39m\u001b[38;5;124mx1(t) - Four Basis Functions\u001b[39m\u001b[38;5;124m\"\u001b[39m)\n\u001b[0;32m      4\u001b[0m plt\u001b[38;5;241m.\u001b[39mxlabel(\u001b[38;5;124m\"\u001b[39m\u001b[38;5;124mTime (s)\u001b[39m\u001b[38;5;124m\"\u001b[39m)\n",
      "\u001b[1;31mNameError\u001b[0m: name 'plt' is not defined"
     ]
    }
   ],
   "source": [
    "# Plot x1 and x3 trajectories\n",
    "plt.subplot(2, 2, 1)\n",
    "plt.plot(t_vals, x1_vals_four, label=\"x1(t) - Four Basis Functions\")\n",
    "plt.xlabel(\"Time (s)\")\n",
    "plt.ylabel(\"x1(t)\")\n",
    "plt.legend()\n",
    "plt.grid()"
   ]
  },
  {
   "cell_type": "code",
   "execution_count": 17,
   "metadata": {},
   "outputs": [
    {
     "ename": "NameError",
     "evalue": "name 'plt' is not defined",
     "output_type": "error",
     "traceback": [
      "\u001b[1;31m---------------------------------------------------------------------------\u001b[0m",
      "\u001b[1;31mNameError\u001b[0m                                 Traceback (most recent call last)",
      "Cell \u001b[1;32mIn[17], line 1\u001b[0m\n\u001b[1;32m----> 1\u001b[0m \u001b[43mplt\u001b[49m\u001b[38;5;241m.\u001b[39msubplot(\u001b[38;5;241m2\u001b[39m, \u001b[38;5;241m2\u001b[39m, \u001b[38;5;241m2\u001b[39m)\n\u001b[0;32m      2\u001b[0m plt\u001b[38;5;241m.\u001b[39mplot(t_vals, x3_vals_four, label\u001b[38;5;241m=\u001b[39m\u001b[38;5;124m\"\u001b[39m\u001b[38;5;124mx3(t) - Four Basis Functions\u001b[39m\u001b[38;5;124m\"\u001b[39m)\n\u001b[0;32m      3\u001b[0m plt\u001b[38;5;241m.\u001b[39mxlabel(\u001b[38;5;124m\"\u001b[39m\u001b[38;5;124mTime (s)\u001b[39m\u001b[38;5;124m\"\u001b[39m)\n",
      "\u001b[1;31mNameError\u001b[0m: name 'plt' is not defined"
     ]
    }
   ],
   "source": [
    "plt.subplot(2, 2, 2)\n",
    "plt.plot(t_vals, x3_vals_four, label=\"x3(t) - Four Basis Functions\")\n",
    "plt.xlabel(\"Time (s)\")\n",
    "plt.ylabel(\"x3(t)\")\n",
    "plt.legend()\n",
    "plt.grid()"
   ]
  },
  {
   "cell_type": "code",
   "execution_count": 18,
   "metadata": {},
   "outputs": [
    {
     "ename": "NameError",
     "evalue": "name 'plt' is not defined",
     "output_type": "error",
     "traceback": [
      "\u001b[1;31m---------------------------------------------------------------------------\u001b[0m",
      "\u001b[1;31mNameError\u001b[0m                                 Traceback (most recent call last)",
      "Cell \u001b[1;32mIn[18], line 2\u001b[0m\n\u001b[0;32m      1\u001b[0m \u001b[38;5;66;03m# Plot control inputs u1 and u2\u001b[39;00m\n\u001b[1;32m----> 2\u001b[0m \u001b[43mplt\u001b[49m\u001b[38;5;241m.\u001b[39msubplot(\u001b[38;5;241m2\u001b[39m, \u001b[38;5;241m2\u001b[39m, \u001b[38;5;241m3\u001b[39m)\n\u001b[0;32m      3\u001b[0m plt\u001b[38;5;241m.\u001b[39mplot(t_vals, u1_vals_four, label\u001b[38;5;241m=\u001b[39m\u001b[38;5;124m\"\u001b[39m\u001b[38;5;124mu1(t) - Four Basis Functions\u001b[39m\u001b[38;5;124m\"\u001b[39m)\n\u001b[0;32m      4\u001b[0m plt\u001b[38;5;241m.\u001b[39mxlabel(\u001b[38;5;124m\"\u001b[39m\u001b[38;5;124mTime (s)\u001b[39m\u001b[38;5;124m\"\u001b[39m)\n",
      "\u001b[1;31mNameError\u001b[0m: name 'plt' is not defined"
     ]
    }
   ],
   "source": [
    "# Plot control inputs u1 and u2\n",
    "plt.subplot(2, 2, 3)\n",
    "plt.plot(t_vals, u1_vals_four, label=\"u1(t) - Four Basis Functions\")\n",
    "plt.xlabel(\"Time (s)\")\n",
    "plt.ylabel(\"u1(t)\")\n",
    "plt.legend()\n",
    "plt.grid()"
   ]
  },
  {
   "cell_type": "code",
   "execution_count": 19,
   "metadata": {},
   "outputs": [
    {
     "ename": "NameError",
     "evalue": "name 'plt' is not defined",
     "output_type": "error",
     "traceback": [
      "\u001b[1;31m---------------------------------------------------------------------------\u001b[0m",
      "\u001b[1;31mNameError\u001b[0m                                 Traceback (most recent call last)",
      "Cell \u001b[1;32mIn[19], line 1\u001b[0m\n\u001b[1;32m----> 1\u001b[0m \u001b[43mplt\u001b[49m\u001b[38;5;241m.\u001b[39msubplot(\u001b[38;5;241m2\u001b[39m, \u001b[38;5;241m2\u001b[39m, \u001b[38;5;241m4\u001b[39m)\n\u001b[0;32m      2\u001b[0m plt\u001b[38;5;241m.\u001b[39mplot(t_vals, u2_vals_four, label\u001b[38;5;241m=\u001b[39m\u001b[38;5;124m\"\u001b[39m\u001b[38;5;124mu2(t) - Four Basis Functions\u001b[39m\u001b[38;5;124m\"\u001b[39m)\n\u001b[0;32m      3\u001b[0m plt\u001b[38;5;241m.\u001b[39mxlabel(\u001b[38;5;124m\"\u001b[39m\u001b[38;5;124mTime (s)\u001b[39m\u001b[38;5;124m\"\u001b[39m)\n",
      "\u001b[1;31mNameError\u001b[0m: name 'plt' is not defined"
     ]
    }
   ],
   "source": [
    "plt.subplot(2, 2, 4)\n",
    "plt.plot(t_vals, u2_vals_four, label=\"u2(t) - Four Basis Functions\")\n",
    "plt.xlabel(\"Time (s)\")\n",
    "plt.ylabel(\"u2(t)\")\n",
    "plt.legend()\n",
    "plt.grid()"
   ]
  },
  {
   "cell_type": "code",
   "execution_count": 20,
   "metadata": {},
   "outputs": [
    {
     "ename": "NameError",
     "evalue": "name 'plt' is not defined",
     "output_type": "error",
     "traceback": [
      "\u001b[1;31m---------------------------------------------------------------------------\u001b[0m",
      "\u001b[1;31mNameError\u001b[0m                                 Traceback (most recent call last)",
      "Cell \u001b[1;32mIn[20], line 1\u001b[0m\n\u001b[1;32m----> 1\u001b[0m \u001b[43mplt\u001b[49m\u001b[38;5;241m.\u001b[39msuptitle(\u001b[38;5;124m\"\u001b[39m\u001b[38;5;124mDifferentially Flat Trajectory and Control Inputs (Four Basis Functions)\u001b[39m\u001b[38;5;124m\"\u001b[39m)\n\u001b[0;32m      2\u001b[0m plt\u001b[38;5;241m.\u001b[39mtight_layout(rect\u001b[38;5;241m=\u001b[39m[\u001b[38;5;241m0\u001b[39m, \u001b[38;5;241m0.03\u001b[39m, \u001b[38;5;241m1\u001b[39m, \u001b[38;5;241m0.95\u001b[39m])\n\u001b[0;32m      3\u001b[0m plt\u001b[38;5;241m.\u001b[39mshow()\n",
      "\u001b[1;31mNameError\u001b[0m: name 'plt' is not defined"
     ]
    }
   ],
   "source": [
    "plt.suptitle(\"Differentially Flat Trajectory and Control Inputs (Four Basis Functions)\")\n",
    "plt.tight_layout(rect=[0, 0.03, 1, 0.95])\n",
    "plt.show()"
   ]
  }
 ],
 "metadata": {
  "kernelspec": {
   "display_name": "Python 3",
   "language": "python",
   "name": "python3"
  },
  "language_info": {
   "codemirror_mode": {
    "name": "ipython",
    "version": 3
   },
   "file_extension": ".py",
   "mimetype": "text/x-python",
   "name": "python",
   "nbconvert_exporter": "python",
   "pygments_lexer": "ipython3",
   "version": "3.13.0"
  }
 },
 "nbformat": 4,
 "nbformat_minor": 2
}
